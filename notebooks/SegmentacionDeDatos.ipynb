{
 "cells": [
  {
   "cell_type": "code",
   "execution_count": 1,
   "metadata": {},
   "outputs": [],
   "source": [
    "import pandas as pd\n",
    "import numpy as np"
   ]
  },
  {
   "cell_type": "code",
   "execution_count": 2,
   "metadata": {},
   "outputs": [
    {
     "name": "stdout",
     "output_type": "stream",
     "text": [
      "Total Original:  240000\n"
     ]
    }
   ],
   "source": [
    "df_train = pd.read_csv('../data/train.csv')\n",
    "\n",
    "print('Total Original: ', df_train.shape[0])"
   ]
  },
  {
   "cell_type": "markdown",
   "metadata": {},
   "source": [
    "### Feature Engineering"
   ]
  },
  {
   "cell_type": "code",
   "execution_count": 3,
   "metadata": {},
   "outputs": [
    {
     "name": "stdout",
     "output_type": "stream",
     "text": [
      "Porcentaje de inmuebles con alguna comodidad:  0.09301423836227564\n"
     ]
    }
   ],
   "source": [
    "# Agrego datos de densidad poblacional y criminalidad a las provincias\n",
    "\n",
    "provincia_info = {\n",
    "    'provincia': [\"Aguascalientes\", \"Baja California Norte\", \"Baja California Sur\", \"Campeche\", \"Coahuila\", \"Colima\", \"Chiapas\", \"Chihuahua\", \"Distrito Federal\", \"Durango\", \"Guanajuato\", \"Guerrero\", \"Hidalgo\", \"Jalisco\", \"Edo. de México\", \"Michoacán\", \"Morelos\", \"Nayarit\", \"Nuevo León\", \"Oaxaca\", \"Puebla\", \"Querétaro\", \"Quintana Roo\", \"San luis Potosí\", \"Sinaloa\", \"Sonora\", \"Tabasco\", \"Tamaulipas\", \"Tlaxcala\", \"Veracruz\", \"Yucatán\", \"Zacatecas\"],\n",
    "    'densidadpoblacional': [233.7, 46.4, 9.6, 15.6, 19.5, 126.4, 71.2, 14.4, 5967.3, 14.2, 191.3, 55.6, 137.3, 99.8, 724.2, 78.2, 390.2, 42.4, 79.8, 42.3, 179.8, 174.4, 33.6, 44.5, 51.7, 15.9, 96.9, 42.9, 318.4, 113.0, 53.1, 21.0],\n",
    "    'criminalidad': [35.457, 32.758, 25.577, 22.114, 24.800, 27.045, 16.687, 31.274, 52.718, 25.640, 33.154, 53.875, 21.159, 49.317, 56.835, 23.876, 43.419, 21.288, 26.221, 24.961, 27.530, 30.991, 35.639, 25.838, 22.750, 40.466, 30.409, 21.363, 30.699, 22.157, 25.862, 21.501]\n",
    "}\n",
    "\n",
    "df_provincia_info = pd.DataFrame(provincia_info, columns = ['provincia', 'densidadpoblacional', 'criminalidad'])\n",
    "\n",
    "df_train = pd.merge(df_train, df_provincia_info, on = \"provincia\")\n",
    "\n",
    "\n",
    "# Creo la columna comodidades usando el campo descripcion\n",
    "\n",
    "#from collections import Counter\n",
    "#Counter(\" \".join(df_train[\"descripcion\"].apply(lambda x: str(x))).split()).most_common(100)\n",
    "\n",
    "def amenitiesCounter(descripcion):\n",
    "    words = descripcion.lower().split()\n",
    "    \n",
    "    amenities = [\n",
    "        'estufa' in words or 'estufas' in words,\n",
    "        'aire' in words and 'acondicionado' in words,\n",
    "        'balcón' in words or 'balcon' in words,\n",
    "        'asador' in words,\n",
    "        'jardin' in words or 'jardín' in words,\n",
    "        'jacuzzi' in words,\n",
    "        'amplio' in words or 'amplia' in words,\n",
    "        'sol' in words,\n",
    "        'vista' in words,\n",
    "        'mueble' in words or 'muebles' in words,\n",
    "        'vestidor' in words,\n",
    "        'vigilancia' in words,\n",
    "        'cisterna' in words\n",
    "    ]\n",
    "        \n",
    "    return len([ x for x in amenities if x])\n",
    "    \n",
    "df_train['comodidades'] = df_train['descripcion'].apply(lambda x: amenitiesCounter(str(x)))\n",
    "\n",
    "\n",
    "print(\"Porcentaje de inmuebles con alguna comodidad: \", df_train[df_train['comodidades'] != 0].dropna().shape[0] / df_train.shape[0])"
   ]
  },
  {
   "cell_type": "markdown",
   "metadata": {},
   "source": [
    "### Segmentacion"
   ]
  },
  {
   "cell_type": "code",
   "execution_count": 4,
   "metadata": {},
   "outputs": [
    {
     "name": "stdout",
     "output_type": "stream",
     "text": [
      "Solo casas:  32816\n"
     ]
    }
   ],
   "source": [
    "# Filtro por tipo de propiedad\n",
    "df_train = df_train[df_train['tipodepropiedad'] == 'Casa'].dropna()\n",
    "\n",
    "print('Solo casas: ', df_train.shape[0])"
   ]
  },
  {
   "cell_type": "code",
   "execution_count": 5,
   "metadata": {},
   "outputs": [],
   "source": [
    "#df_train.provincia.value_counts()"
   ]
  },
  {
   "cell_type": "code",
   "execution_count": 6,
   "metadata": {},
   "outputs": [
    {
     "name": "stdout",
     "output_type": "stream",
     "text": [
      "Algunas provincias:  899\n"
     ]
    }
   ],
   "source": [
    "# Filtro por provincias\"\n",
    "#provincias = [\"Aguascalientes\", \"Baja California Norte\", \"Baja California Sur\", \"Campeche\", \"Coahuila\", \"Colima\", \"Chiapas\", \"Chihuahua\", \"Distrito Federal\", \"Durango\", \"Guanajuato\", \"Guerrero\", \"Hidalgo\", \"Jalisco\", \"Edo. de México\", \"Michoacán\", \"Morelos\", \"Nayarit\", \"Nuevo León\", \"Oaxaca\", \"Puebla\", \"Querétaro\", \"Quintana Roo\", \"San luis Potosí\", \"Sinaloa\", \"Sonora\", \"Tabasco\", \"Tamaulipas\", \"Tlaxcala\", \"Veracruz\", \"Yucatán\", \"Zacatecas\"]\n",
    "provincias = ['Colima', 'Michoacán', 'Guerrero', 'Oaxaca', 'Chiapas']\n",
    "df_train = df_train[df_train['provincia'].isin(provincias)]\n",
    "\n",
    "print('Algunas provincias: ', df_train.shape[0])"
   ]
  },
  {
   "cell_type": "code",
   "execution_count": 7,
   "metadata": {},
   "outputs": [
    {
     "name": "stdout",
     "output_type": "stream",
     "text": [
      "Precios acotados:  727\n"
     ]
    }
   ],
   "source": [
    "# Filtro por precio\n",
    "lower = np.percentile(df_train['precio'], 10)\n",
    "upper = np.percentile(df_train['precio'], 90)\n",
    "\n",
    "df_train = df_train[df_train['precio'].between(lower, upper)]\n",
    "\n",
    "print('Precios acotados: ', df_train.shape[0])"
   ]
  },
  {
   "cell_type": "code",
   "execution_count": 8,
   "metadata": {},
   "outputs": [
    {
     "name": "stdout",
     "output_type": "stream",
     "text": [
      "Metros totales acotados:  596\n"
     ]
    }
   ],
   "source": [
    "# Filtro por metros\n",
    "lower = np.percentile(df_train['metrostotales'], 10)\n",
    "upper = np.percentile(df_train['metrostotales'], 90)\n",
    "\n",
    "df_train = df_train[df_train['metrostotales'].between(lower, upper)]\n",
    "\n",
    "print('Metros totales acotados: ', df_train.shape[0])"
   ]
  },
  {
   "cell_type": "code",
   "execution_count": 9,
   "metadata": {},
   "outputs": [
    {
     "name": "stdout",
     "output_type": "stream",
     "text": [
      "Densidad poblacional acotada:  569\n"
     ]
    }
   ],
   "source": [
    "# Filtro por habitaciones\n",
    "df_train = df_train[df_train['habitaciones'].between(1, 4)]\n",
    "\n",
    "print('Densidad poblacional acotada: ', df_train.shape[0])"
   ]
  },
  {
   "cell_type": "code",
   "execution_count": 10,
   "metadata": {},
   "outputs": [
    {
     "name": "stdout",
     "output_type": "stream",
     "text": [
      "Antiguedad acotada:  558\n"
     ]
    }
   ],
   "source": [
    "# Filtro por antiguedad\n",
    "df_train = df_train[df_train['antiguedad'].between(0, 20)]\n",
    "\n",
    "print('Antiguedad acotada: ', df_train.shape[0])"
   ]
  },
  {
   "cell_type": "code",
   "execution_count": 11,
   "metadata": {},
   "outputs": [
    {
     "name": "stdout",
     "output_type": "stream",
     "text": [
      "Porcentaje de inmuebles segmentados con alguna comodidad:  0.48028673835125446\n"
     ]
    }
   ],
   "source": [
    "print(\"Porcentaje de inmuebles segmentados con alguna comodidad: \", df_train[df_train['comodidades'] != 0].dropna().shape[0] / df_train.shape[0])"
   ]
  },
  {
   "cell_type": "markdown",
   "metadata": {},
   "source": [
    "### Creo CSVs con los datos a usar en los experimentos"
   ]
  },
  {
   "cell_type": "code",
   "execution_count": 19,
   "metadata": {},
   "outputs": [],
   "source": [
    "#Segmento por antiguedad\n",
    "middle = np.percentile(df_train['antiguedad'], 50)\n",
    "\n",
    "df_train_new_houses = df_train[df_train['antiguedad'].between(0, middle)]\n",
    "df_train_old_houses = df_train[df_train['antiguedad'].between(middle, 20)]\n",
    "\n",
    "df_train_new_houses.sample(frac=1, random_state=1).to_csv('../data/train-new-houses.csv', index=False)\n",
    "df_train_old_houses.sample(frac=1, random_state=1).to_csv('../data/train-old-houses.csv', index=False)"
   ]
  },
  {
   "cell_type": "code",
   "execution_count": 20,
   "metadata": {},
   "outputs": [],
   "source": [
    "df_train.sample(frac=1, random_state=1).to_csv('../data/train-all-houses.csv', index=False)"
   ]
  },
  {
   "cell_type": "code",
   "execution_count": null,
   "metadata": {},
   "outputs": [],
   "source": []
  },
  {
   "cell_type": "code",
   "execution_count": null,
   "metadata": {},
   "outputs": [],
   "source": []
  },
  {
   "cell_type": "code",
   "execution_count": null,
   "metadata": {},
   "outputs": [],
   "source": []
  }
 ],
 "metadata": {
  "kernelspec": {
   "display_name": "Python 3",
   "language": "python",
   "name": "python3"
  },
  "language_info": {
   "codemirror_mode": {
    "name": "ipython",
    "version": 3
   },
   "file_extension": ".py",
   "mimetype": "text/x-python",
   "name": "python",
   "nbconvert_exporter": "python",
   "pygments_lexer": "ipython3",
   "version": "3.7.7"
  }
 },
 "nbformat": 4,
 "nbformat_minor": 4
}
