{
 "cells": [
  {
   "cell_type": "code",
   "execution_count": 22,
   "metadata": {},
   "outputs": [],
   "source": [
    "import pandas as pd\n",
    "import numpy as np"
   ]
  },
  {
   "cell_type": "code",
   "execution_count": 50,
   "metadata": {},
   "outputs": [],
   "source": [
    "df_train = pd.read_csv('../data/train.csv')\n",
    "#df_test = pd.read_csv('../data/test.csv')"
   ]
  },
  {
   "cell_type": "code",
   "execution_count": 3,
   "metadata": {},
   "outputs": [
    {
     "data": {
      "text/plain": [
       "array(['id', 'titulo', 'descripcion', 'tipodepropiedad', 'direccion',\n",
       "       'ciudad', 'provincia', 'antiguedad', 'habitaciones', 'garages',\n",
       "       'banos', 'metroscubiertos', 'metrostotales', 'idzona', 'lat',\n",
       "       'lng', 'fecha', 'gimnasio', 'usosmultiples', 'piscina',\n",
       "       'escuelascercanas', 'centroscomercialescercanos', 'precio'],\n",
       "      dtype=object)"
      ]
     },
     "execution_count": 3,
     "metadata": {},
     "output_type": "execute_result"
    }
   ],
   "source": [
    "df_train.columns.values"
   ]
  },
  {
   "cell_type": "code",
   "execution_count": 4,
   "metadata": {},
   "outputs": [
    {
     "data": {
      "text/plain": [
       "Querétaro          12646\n",
       "Benito Juárez      11014\n",
       "Zapopan            10360\n",
       "San Luis Potosí     7925\n",
       "Mérida              7162\n",
       "                   ...  \n",
       "Chilchotla             1\n",
       "Abalá                  1\n",
       "Zimapán                1\n",
       "Rayones                1\n",
       "Ocampo                 1\n",
       "Name: ciudad, Length: 875, dtype: int64"
      ]
     },
     "execution_count": 4,
     "metadata": {},
     "output_type": "execute_result"
    }
   ],
   "source": [
    "df_train.ciudad.value_counts()"
   ]
  },
  {
   "cell_type": "code",
   "execution_count": 5,
   "metadata": {},
   "outputs": [
    {
     "data": {
      "text/plain": [
       "Distrito Federal         58790\n",
       "Edo. de México           41607\n",
       "Jalisco                  21238\n",
       "Querétaro                16988\n",
       "Nuevo León               15324\n",
       "Puebla                   10421\n",
       "San luis Potosí           8447\n",
       "Yucatán                   7928\n",
       "Morelos                   7337\n",
       "Veracruz                  5762\n",
       "Quintana Roo              4756\n",
       "Chihuahua                 4590\n",
       "Coahuila                  3695\n",
       "Baja California Norte     3220\n",
       "Sonora                    2988\n",
       "Guanajuato                2860\n",
       "Guerrero                  2678\n",
       "Hidalgo                   2521\n",
       "Michoacán                 2471\n",
       "Tamaulipas                2303\n",
       "Durango                   2275\n",
       "Sinaloa                   1806\n",
       "Aguascalientes            1753\n",
       "Baja California Sur       1700\n",
       "Nayarit                   1352\n",
       "Chiapas                   1126\n",
       "Colima                    1008\n",
       "Tabasco                    994\n",
       "Tlaxcala                   839\n",
       "Oaxaca                     711\n",
       "Campeche                   263\n",
       "Zacatecas                   94\n",
       "Name: provincia, dtype: int64"
      ]
     },
     "execution_count": 5,
     "metadata": {},
     "output_type": "execute_result"
    }
   ],
   "source": [
    "df_train.provincia.value_counts()"
   ]
  },
  {
   "cell_type": "code",
   "execution_count": 6,
   "metadata": {},
   "outputs": [
    {
     "data": {
      "text/plain": [
       "Casa                             141717\n",
       "Apartamento                       57341\n",
       "Casa en condominio                19297\n",
       "Terreno                            9945\n",
       "Local Comercial                    3055\n",
       "Oficina comercial                  1741\n",
       "Bodega comercial                   1406\n",
       "Edificio                           1396\n",
       "Terreno comercial                  1326\n",
       "Casa uso de suelo                   708\n",
       "Quinta Vacacional                   395\n",
       "Duplex                              343\n",
       "Villa                               340\n",
       "Inmuebles productivos urbanos       200\n",
       "Rancho                              170\n",
       "Local en centro comercial           165\n",
       "Departamento Compartido             141\n",
       "Otros                               134\n",
       "Nave industrial                      76\n",
       "Terreno industrial                   31\n",
       "Huerta                               20\n",
       "Lote                                  5\n",
       "Garage                                1\n",
       "Hospedaje                             1\n",
       "Name: tipodepropiedad, dtype: int64"
      ]
     },
     "execution_count": 6,
     "metadata": {},
     "output_type": "execute_result"
    }
   ],
   "source": [
    "df_train.tipodepropiedad.value_counts()"
   ]
  },
  {
   "cell_type": "code",
   "execution_count": 7,
   "metadata": {},
   "outputs": [
    {
     "data": {
      "text/plain": [
       " 0.000000      449\n",
       "-99.225000      12\n",
       "-99.218984       9\n",
       "-99.139000       8\n",
       "-99.213000       8\n",
       "              ... \n",
       "-103.449196      1\n",
       "-100.443135      1\n",
       "-106.103384      1\n",
       "-99.168257       1\n",
       "-99.131383       1\n",
       "Name: lng, Length: 112326, dtype: int64"
      ]
     },
     "execution_count": 7,
     "metadata": {},
     "output_type": "execute_result"
    }
   ],
   "source": [
    "df_train.lng.value_counts()"
   ]
  },
  {
   "cell_type": "code",
   "execution_count": 8,
   "metadata": {},
   "outputs": [
    {
     "data": {
      "text/plain": [
       "2016-12-03 00:00:00    1416\n",
       "2016-04-08 00:00:00    1337\n",
       "2016-12-28 00:00:00    1182\n",
       "2012-08-17 00:00:00    1168\n",
       "2016-12-27 00:00:00    1167\n",
       "                       ... \n",
       "2012-12-24 00:00:00      11\n",
       "2013-02-10 00:00:00       9\n",
       "2012-12-30 00:00:00       5\n",
       "2014-09-30 18:12:16       2\n",
       "2014-08-31 18:12:16       1\n",
       "Name: fecha, Length: 1830, dtype: int64"
      ]
     },
     "execution_count": 8,
     "metadata": {},
     "output_type": "execute_result"
    }
   ],
   "source": [
    "df_train.fecha.value_counts()"
   ]
  },
  {
   "cell_type": "code",
   "execution_count": 9,
   "metadata": {},
   "outputs": [
    {
     "data": {
      "text/plain": [
       "0.0      2922\n",
       "20.0      684\n",
       "10.0      522\n",
       "30.0      478\n",
       "40.0      407\n",
       "         ... \n",
       "311.0       1\n",
       "284.0       1\n",
       "278.0       1\n",
       "193.0       1\n",
       "327.0       1\n",
       "Name: patio, Length: 287, dtype: int64"
      ]
     },
     "execution_count": 9,
     "metadata": {},
     "output_type": "execute_result"
    }
   ],
   "source": [
    "df_train = pd.read_csv('../data/train.csv')\n",
    "df_train = df_train[df_train['tipodepropiedad']=='Casa'].dropna()\n",
    "df_train['patio'] = df_train['metrostotales'] - df_train['metroscubiertos']\n",
    "df_train = df_train[df_train['patio'] >= 0].dropna()\n",
    "\n",
    "df_train.patio.value_counts()"
   ]
  },
  {
   "cell_type": "code",
   "execution_count": 94,
   "metadata": {},
   "outputs": [
    {
     "name": "stdout",
     "output_type": "stream",
     "text": [
      "Total Original:  239845\n",
      "Solo casas:  32816\n",
      "Algunas provincias:  32816\n",
      "Precios acotados:  13240\n",
      "Metros totales acotados:  6167\n",
      "Densidad poblacional acotada:  4194\n",
      "Antiguedad acotada:  3361\n",
      "comodidades 810\n"
     ]
    },
    {
     "data": {
      "text/html": [
       "<div>\n",
       "<style scoped>\n",
       "    .dataframe tbody tr th:only-of-type {\n",
       "        vertical-align: middle;\n",
       "    }\n",
       "\n",
       "    .dataframe tbody tr th {\n",
       "        vertical-align: top;\n",
       "    }\n",
       "\n",
       "    .dataframe thead th {\n",
       "        text-align: right;\n",
       "    }\n",
       "</style>\n",
       "<table border=\"1\" class=\"dataframe\">\n",
       "  <thead>\n",
       "    <tr style=\"text-align: right;\">\n",
       "      <th></th>\n",
       "      <th>id</th>\n",
       "      <th>provincia</th>\n",
       "      <th>precio</th>\n",
       "      <th>densidadpoblacional</th>\n",
       "      <th>criminalidad</th>\n",
       "      <th>antiguedad</th>\n",
       "      <th>comodidades</th>\n",
       "    </tr>\n",
       "  </thead>\n",
       "  <tbody>\n",
       "    <tr>\n",
       "      <th>58856</th>\n",
       "      <td>157965</td>\n",
       "      <td>Jalisco</td>\n",
       "      <td>1600000.0</td>\n",
       "      <td>99.8</td>\n",
       "      <td>49.317</td>\n",
       "      <td>5.0</td>\n",
       "      <td>0</td>\n",
       "    </tr>\n",
       "    <tr>\n",
       "      <th>58940</th>\n",
       "      <td>152758</td>\n",
       "      <td>Jalisco</td>\n",
       "      <td>1000000.0</td>\n",
       "      <td>99.8</td>\n",
       "      <td>49.317</td>\n",
       "      <td>10.0</td>\n",
       "      <td>0</td>\n",
       "    </tr>\n",
       "    <tr>\n",
       "      <th>58962</th>\n",
       "      <td>164710</td>\n",
       "      <td>Jalisco</td>\n",
       "      <td>2350000.0</td>\n",
       "      <td>99.8</td>\n",
       "      <td>49.317</td>\n",
       "      <td>10.0</td>\n",
       "      <td>0</td>\n",
       "    </tr>\n",
       "    <tr>\n",
       "      <th>58992</th>\n",
       "      <td>111273</td>\n",
       "      <td>Jalisco</td>\n",
       "      <td>1650000.0</td>\n",
       "      <td>99.8</td>\n",
       "      <td>49.317</td>\n",
       "      <td>5.0</td>\n",
       "      <td>0</td>\n",
       "    </tr>\n",
       "    <tr>\n",
       "      <th>58998</th>\n",
       "      <td>150850</td>\n",
       "      <td>Jalisco</td>\n",
       "      <td>1680000.0</td>\n",
       "      <td>99.8</td>\n",
       "      <td>49.317</td>\n",
       "      <td>5.0</td>\n",
       "      <td>1</td>\n",
       "    </tr>\n",
       "    <tr>\n",
       "      <th>...</th>\n",
       "      <td>...</td>\n",
       "      <td>...</td>\n",
       "      <td>...</td>\n",
       "      <td>...</td>\n",
       "      <td>...</td>\n",
       "      <td>...</td>\n",
       "      <td>...</td>\n",
       "    </tr>\n",
       "    <tr>\n",
       "      <th>239380</th>\n",
       "      <td>297720</td>\n",
       "      <td>Tlaxcala</td>\n",
       "      <td>1650000.0</td>\n",
       "      <td>318.4</td>\n",
       "      <td>30.699</td>\n",
       "      <td>0.0</td>\n",
       "      <td>1</td>\n",
       "    </tr>\n",
       "    <tr>\n",
       "      <th>239400</th>\n",
       "      <td>140397</td>\n",
       "      <td>Tlaxcala</td>\n",
       "      <td>1400000.0</td>\n",
       "      <td>318.4</td>\n",
       "      <td>30.699</td>\n",
       "      <td>8.0</td>\n",
       "      <td>0</td>\n",
       "    </tr>\n",
       "    <tr>\n",
       "      <th>239466</th>\n",
       "      <td>216779</td>\n",
       "      <td>Tlaxcala</td>\n",
       "      <td>1700000.0</td>\n",
       "      <td>318.4</td>\n",
       "      <td>30.699</td>\n",
       "      <td>1.0</td>\n",
       "      <td>0</td>\n",
       "    </tr>\n",
       "    <tr>\n",
       "      <th>239467</th>\n",
       "      <td>181323</td>\n",
       "      <td>Tlaxcala</td>\n",
       "      <td>1150000.0</td>\n",
       "      <td>318.4</td>\n",
       "      <td>30.699</td>\n",
       "      <td>0.0</td>\n",
       "      <td>0</td>\n",
       "    </tr>\n",
       "    <tr>\n",
       "      <th>239480</th>\n",
       "      <td>151426</td>\n",
       "      <td>Tlaxcala</td>\n",
       "      <td>1650000.0</td>\n",
       "      <td>318.4</td>\n",
       "      <td>30.699</td>\n",
       "      <td>0.0</td>\n",
       "      <td>0</td>\n",
       "    </tr>\n",
       "  </tbody>\n",
       "</table>\n",
       "<p>3361 rows × 7 columns</p>\n",
       "</div>"
      ],
      "text/plain": [
       "            id provincia     precio  densidadpoblacional  criminalidad  \\\n",
       "58856   157965   Jalisco  1600000.0                 99.8        49.317   \n",
       "58940   152758   Jalisco  1000000.0                 99.8        49.317   \n",
       "58962   164710   Jalisco  2350000.0                 99.8        49.317   \n",
       "58992   111273   Jalisco  1650000.0                 99.8        49.317   \n",
       "58998   150850   Jalisco  1680000.0                 99.8        49.317   \n",
       "...        ...       ...        ...                  ...           ...   \n",
       "239380  297720  Tlaxcala  1650000.0                318.4        30.699   \n",
       "239400  140397  Tlaxcala  1400000.0                318.4        30.699   \n",
       "239466  216779  Tlaxcala  1700000.0                318.4        30.699   \n",
       "239467  181323  Tlaxcala  1150000.0                318.4        30.699   \n",
       "239480  151426  Tlaxcala  1650000.0                318.4        30.699   \n",
       "\n",
       "        antiguedad  comodidades  \n",
       "58856          5.0            0  \n",
       "58940         10.0            0  \n",
       "58962         10.0            0  \n",
       "58992          5.0            0  \n",
       "58998          5.0            1  \n",
       "...            ...          ...  \n",
       "239380         0.0            1  \n",
       "239400         8.0            0  \n",
       "239466         1.0            0  \n",
       "239467         0.0            0  \n",
       "239480         0.0            0  \n",
       "\n",
       "[3361 rows x 7 columns]"
      ]
     },
     "execution_count": 94,
     "metadata": {},
     "output_type": "execute_result"
    }
   ],
   "source": [
    "df_train = pd.read_csv('../data/train.csv')\n",
    "\n",
    "# Feature Engineering (agrego datos de densidad poblacional y criminalidad a las provincias)\n",
    "provincia_info = {\n",
    "    'provincia': [\"Aguascalientes\", \"Baja California Norte\", \"Baja California Sur\", \"Campeche\", \"Coahuila\", \"Colima\", \"Chiapas\", \"Chihuahua\", \"Distrito Federal\", \"Durango\", \"Guanajuato\", \"Guerrero\", \"Hidalgo\", \"Jalisco\", \"Edo. de México\", \"Michoacán\", \"Morelos\", \"Nayarit\", \"Nuevo León\", \"Oaxaca\", \"Puebla\", \"Querétaro\", \"Quintana Roo\", \"San luis Potosí\", \"Sinaloa\", \"Sonora\", \"Tabasco\", \"Tamaulipas\", \"Tlaxcala\", \"Veracruz\", \"Yucatán\", \"Zacatecas\"],\n",
    "    'densidadpoblacional': [233.7, 46.4, 9.6, 15.6, 19.5, 126.4, 71.2, 14.4, 5967.3, 14.2, 191.3, 55.6, 137.3, 99.8, 724.2, 78.2, 390.2, 42.4, 79.8, 42.3, 179.8, 174.4, 33.6, 44.5, 51.7, 15.9, 96.9, 42.9, 318.4, 113.0, 53.1, 21.0],\n",
    "    'criminalidad': [35.457, 32.758, 25.577, 22.114, 24.800, 27.045, 16.687, 31.274, 52.718, 25.640, 33.154, 53.875, 21.159, 49.317, 56.835, 23.876, 43.419, 21.288, 26.221, 24.961, 27.530, 30.991, 35.639, 25.838, 22.750, 40.466, 30.409, 21.363, 30.699, 22.157, 25.862, 21.501]\n",
    "}\n",
    "\n",
    "df_provincia_info = pd.DataFrame(provincia_info, columns = ['provincia', 'densidadpoblacional', 'criminalidad'])\n",
    "\n",
    "df_train = pd.merge(df_train, df_provincia_info, on = \"provincia\")\n",
    "\n",
    "# Agrego longitud de la descripcion\n",
    "\n",
    "def amenitiesCounter(descripcion):\n",
    "    words = descripcion.lower().split()\n",
    "    \n",
    "    amenities = [\n",
    "        'internet' in words,\n",
    "        'televisión' in words or 'televisores' in words,\n",
    "        'estufa' in words or 'estufas' in words,\n",
    "        'aire' in words and 'acondicionado' in words,\n",
    "        'balcón' in words or 'balcon' in words,\n",
    "        'asador' in words,\n",
    "        'jardin' in words or 'jardín' in words,\n",
    "        'jacuzzi' in words,\n",
    "    ]\n",
    "        \n",
    "    return len([ x for x in amenities if x])\n",
    "    \n",
    "df_train['comodidades'] = df_train['descripcion'].apply(lambda x: amenitiesCounter(str(x)))\n",
    "\n",
    "\n",
    "print('Total Original: ', df_train.shape[0])\n",
    "\n",
    "# Filtro por tipo de propiedad\n",
    "df_train = df_train[df_train['tipodepropiedad'] == 'Casa'].dropna()\n",
    "\n",
    "print('Solo casas: ', df_train.shape[0])\n",
    "\n",
    "# Filtro por provincias\n",
    "provincias = [\"Aguascalientes\", \"Baja California Norte\", \"Baja California Sur\", \"Campeche\", \"Coahuila\", \"Colima\", \"Chiapas\", \"Chihuahua\", \"Distrito Federal\", \"Durango\", \"Guanajuato\", \"Guerrero\", \"Hidalgo\", \"Jalisco\", \"Edo. de México\", \"Michoacán\", \"Morelos\", \"Nayarit\", \"Nuevo León\", \"Oaxaca\", \"Puebla\", \"Querétaro\", \"Quintana Roo\", \"San luis Potosí\", \"Sinaloa\", \"Sonora\", \"Tabasco\", \"Tamaulipas\", \"Tlaxcala\", \"Veracruz\", \"Yucatán\", \"Zacatecas\"]\n",
    "df_train = df_train[df_train['provincia'].isin(provincias)]\n",
    "\n",
    "print('Algunas provincias: ', df_train.shape[0])\n",
    "\n",
    "# Filtro por precio\n",
    "lower = np.percentile(df_train['precio'], 30)\n",
    "upper = np.percentile(df_train['precio'], 70)\n",
    "\n",
    "df_train = df_train[df_train['precio'].between(lower, upper)]\n",
    "\n",
    "print('Precios acotados: ', df_train.shape[0])\n",
    "\n",
    "# Filtro por metros\n",
    "lower = np.percentile(df_train['metrostotales'], 30)\n",
    "upper = np.percentile(df_train['metrostotales'], 70)\n",
    "\n",
    "df_train = df_train[df_train['metrostotales'].between(lower, upper)]\n",
    "\n",
    "print('Metros totales acotados: ', df_train.shape[0])\n",
    "\n",
    "# Filtro por densidad poblacional\n",
    "lower = np.percentile(df_train['densidadpoblacional'], 30)\n",
    "upper = np.percentile(df_train['densidadpoblacional'], 70)\n",
    "\n",
    "df_train = df_train[df_train['densidadpoblacional'].between(lower, upper)]\n",
    "\n",
    "print('Densidad poblacional acotada: ', df_train.shape[0])\n",
    "\n",
    "# Filtro por antiguedad\n",
    "upper = np.percentile(df_train['antiguedad'], 80)\n",
    "\n",
    "df_train = df_train[df_train['antiguedad'].between(0, upper)]\n",
    "\n",
    "print('Antiguedad acotada: ', df_train.shape[0])\n",
    "\n",
    "\n",
    "\n",
    "\n",
    "print(\"comodidades\", df_train[df_train['comodidades'] != 0].dropna().shape[0])\n",
    "\n",
    "df_train[['id','provincia', 'precio', 'densidadpoblacional', 'criminalidad', 'antiguedad', 'comodidades']]"
   ]
  },
  {
   "cell_type": "code",
   "execution_count": 90,
   "metadata": {},
   "outputs": [],
   "source": [
    "df_test.to_csv('../data/test1.csv', index=False)\n",
    "df_train.to_csv('../data/train1.csv', index=False)\n"
   ]
  },
  {
   "cell_type": "code",
   "execution_count": null,
   "metadata": {},
   "outputs": [],
   "source": []
  }
 ],
 "metadata": {
  "kernelspec": {
   "display_name": "Python 3",
   "language": "python",
   "name": "python3"
  },
  "language_info": {
   "codemirror_mode": {
    "name": "ipython",
    "version": 3
   },
   "file_extension": ".py",
   "mimetype": "text/x-python",
   "name": "python",
   "nbconvert_exporter": "python",
   "pygments_lexer": "ipython3",
   "version": "3.7.7"
  }
 },
 "nbformat": 4,
 "nbformat_minor": 4
}
